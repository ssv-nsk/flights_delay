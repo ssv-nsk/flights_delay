{
 "cells": [
  {
   "cell_type": "markdown",
   "metadata": {},
   "source": [
    "## Задача:\n",
    "\n",
    "Предложить вариант прогнозной модели по предсказанию задержки рейса авиакомпании на горизонте 24 часа;\n",
    "\n",
    "предполагается, что модель будет запускаться раз в сутки и давать прогноз исполнимости расписаний на следующие сутки.\n",
    "\n",
    "Что хотелось бы получить для оценки:\n",
    "\n",
    "1. Код Python, отражающий ход обработки данных и построение модели.\n",
    "\n",
    "2. Краткий отчет в любом формате, содержащий:\n",
    "\n",
    "· подход к построению модели\n",
    "\n",
    "· описание предлагаемой модели\n",
    "\n",
    "· оценку точности предсказания\n",
    "\n",
    "· краткие выводы и идеи дальнейшего развития модели"
   ]
  },
  {
   "cell_type": "markdown",
   "metadata": {},
   "source": [
    "#### Подключение библиотек и скриптов"
   ]
  },
  {
   "cell_type": "code",
   "execution_count": 1,
   "metadata": {},
   "outputs": [],
   "source": [
    "import numpy as np\n",
    "import pandas as pd\n",
    "\n",
    "from requests import get\n",
    "import requests\n",
    "import json\n",
    "\n",
    "import datetime\n",
    "from datetime import datetime, time, timedelta\n",
    "\n",
    "import pytz\n",
    "from pytz import timezone\n",
    "from pytz import common_timezones\n",
    "from pytz import country_timezones\n",
    "\n",
    "from matplotlib import pyplot as plt\n",
    "from plotly.subplots import make_subplots\n",
    "import plotly.express as px\n",
    "import plotly.graph_objects as go\n",
    "import seaborn as sns\n",
    "%matplotlib inline\n",
    "\n",
    "from scipy.stats import boxcox, probplot\n",
    "from scipy.stats import norm\n",
    "\n",
    "from sklearn.impute import SimpleImputer\n",
    "\n",
    "from sklearn.preprocessing import OneHotEncoder\n",
    "from sklearn.preprocessing import StandardScaler\n",
    "\n",
    "from sklearn.model_selection import KFold, GridSearchCV, RandomizedSearchCV\n",
    "from sklearn.model_selection import TimeSeriesSplit\n",
    "\n",
    "from sklearn.linear_model import LinearRegression, Lasso, Ridge, LassoCV, RidgeCV\n",
    "from sklearn.ensemble import RandomForestRegressor, GradientBoostingRegressor\n",
    "\n",
    "from sklearn.metrics import mean_squared_error, r2_score\n",
    "\n",
    "from catboost import CatBoostRegressor, Pool, cv\n",
    "import xgboost as xgb"
   ]
  },
  {
   "cell_type": "code",
   "execution_count": 2,
   "metadata": {},
   "outputs": [],
   "source": [
    "import warnings\n",
    "warnings.simplefilter('ignore')"
   ]
  },
  {
   "cell_type": "markdown",
   "metadata": {},
   "source": [
    "В качестве метрики будем использовать RMSE, чтобы понимать, на сколько минут ошибаемся в предсказании задержки рейса, и R2, потому что коэффициент детерминации - относительная величина, и по ней можно судить, насколько точно работает модель."
   ]
  },
  {
   "cell_type": "markdown",
   "metadata": {},
   "source": [
    "#### Пути к файлам. Загрузка данных"
   ]
  },
  {
   "cell_type": "code",
   "execution_count": 3,
   "metadata": {},
   "outputs": [],
   "source": [
    "TEST_PATH = 'Тестовое задание_schedule_dataset.xlsx'"
   ]
  },
  {
   "cell_type": "code",
   "execution_count": 4,
   "metadata": {},
   "outputs": [
    {
     "data": {
      "text/html": [
       "<div>\n",
       "<style scoped>\n",
       "    .dataframe tbody tr th:only-of-type {\n",
       "        vertical-align: middle;\n",
       "    }\n",
       "\n",
       "    .dataframe tbody tr th {\n",
       "        vertical-align: top;\n",
       "    }\n",
       "\n",
       "    .dataframe thead th {\n",
       "        text-align: right;\n",
       "    }\n",
       "</style>\n",
       "<table border=\"1\" class=\"dataframe\">\n",
       "  <thead>\n",
       "    <tr style=\"text-align: right;\">\n",
       "      <th></th>\n",
       "      <th>Дата рейса</th>\n",
       "      <th>Рейс</th>\n",
       "      <th>А/П отправл</th>\n",
       "      <th>А/П прибыт</th>\n",
       "      <th>Номер ВС</th>\n",
       "      <th>Время отправления по расписанию</th>\n",
       "      <th>Время отправления фактическое</th>\n",
       "      <th>Время прибытия по расписанию</th>\n",
       "      <th>Время прибытия фактическое</th>\n",
       "    </tr>\n",
       "  </thead>\n",
       "  <tbody>\n",
       "    <tr>\n",
       "      <th>0</th>\n",
       "      <td>2018-03-01</td>\n",
       "      <td>1</td>\n",
       "      <td>MOW</td>\n",
       "      <td>ARH</td>\n",
       "      <td>1</td>\n",
       "      <td>2018-03-01 00:05:00</td>\n",
       "      <td>2018-02-28 23:48:00</td>\n",
       "      <td>2018-03-01 02:00:00</td>\n",
       "      <td>2018-03-01 01:48:00</td>\n",
       "    </tr>\n",
       "    <tr>\n",
       "      <th>1</th>\n",
       "      <td>2018-03-01</td>\n",
       "      <td>2</td>\n",
       "      <td>MOW</td>\n",
       "      <td>EGO</td>\n",
       "      <td>2</td>\n",
       "      <td>2018-03-01 00:05:00</td>\n",
       "      <td>2018-03-01 00:00:00</td>\n",
       "      <td>2018-03-01 01:30:00</td>\n",
       "      <td>2018-03-01 01:55:00</td>\n",
       "    </tr>\n",
       "    <tr>\n",
       "      <th>2</th>\n",
       "      <td>2018-03-01</td>\n",
       "      <td>3</td>\n",
       "      <td>MOW</td>\n",
       "      <td>AKX</td>\n",
       "      <td>3</td>\n",
       "      <td>2018-03-01 00:15:00</td>\n",
       "      <td>2018-03-01 00:14:00</td>\n",
       "      <td>2018-03-01 02:40:00</td>\n",
       "      <td>2018-03-01 02:32:00</td>\n",
       "    </tr>\n",
       "    <tr>\n",
       "      <th>3</th>\n",
       "      <td>2018-03-01</td>\n",
       "      <td>4</td>\n",
       "      <td>LED</td>\n",
       "      <td>MOW</td>\n",
       "      <td>4</td>\n",
       "      <td>2018-03-01 00:20:00</td>\n",
       "      <td>2018-03-01 00:11:00</td>\n",
       "      <td>2018-03-01 01:35:00</td>\n",
       "      <td>2018-03-01 01:39:00</td>\n",
       "    </tr>\n",
       "    <tr>\n",
       "      <th>4</th>\n",
       "      <td>2018-03-01</td>\n",
       "      <td>5</td>\n",
       "      <td>MOW</td>\n",
       "      <td>KRR</td>\n",
       "      <td>5</td>\n",
       "      <td>2018-03-01 00:25:00</td>\n",
       "      <td>2018-03-01 00:21:00</td>\n",
       "      <td>2018-03-01 02:40:00</td>\n",
       "      <td>2018-03-01 02:41:00</td>\n",
       "    </tr>\n",
       "  </tbody>\n",
       "</table>\n",
       "</div>"
      ],
      "text/plain": [
       "  Дата рейса  Рейс А/П отправл А/П прибыт  Номер ВС  \\\n",
       "0 2018-03-01     1         MOW        ARH         1   \n",
       "1 2018-03-01     2         MOW        EGO         2   \n",
       "2 2018-03-01     3         MOW        AKX         3   \n",
       "3 2018-03-01     4         LED        MOW         4   \n",
       "4 2018-03-01     5         MOW        KRR         5   \n",
       "\n",
       "  Время отправления по расписанию Время отправления фактическое  \\\n",
       "0             2018-03-01 00:05:00           2018-02-28 23:48:00   \n",
       "1             2018-03-01 00:05:00           2018-03-01 00:00:00   \n",
       "2             2018-03-01 00:15:00           2018-03-01 00:14:00   \n",
       "3             2018-03-01 00:20:00           2018-03-01 00:11:00   \n",
       "4             2018-03-01 00:25:00           2018-03-01 00:21:00   \n",
       "\n",
       "  Время прибытия по расписанию Время прибытия фактическое  \n",
       "0          2018-03-01 02:00:00        2018-03-01 01:48:00  \n",
       "1          2018-03-01 01:30:00        2018-03-01 01:55:00  \n",
       "2          2018-03-01 02:40:00        2018-03-01 02:32:00  \n",
       "3          2018-03-01 01:35:00        2018-03-01 01:39:00  \n",
       "4          2018-03-01 02:40:00        2018-03-01 02:41:00  "
      ]
     },
     "execution_count": 4,
     "metadata": {},
     "output_type": "execute_result"
    }
   ],
   "source": [
    "data = pd.read_excel(TEST_PATH)\n",
    "data.head()"
   ]
  },
  {
   "cell_type": "code",
   "execution_count": 5,
   "metadata": {},
   "outputs": [],
   "source": [
    "data = data.reset_index()"
   ]
  },
  {
   "cell_type": "markdown",
   "metadata": {},
   "source": [
    "## Обзор данных"
   ]
  },
  {
   "cell_type": "code",
   "execution_count": 6,
   "metadata": {},
   "outputs": [
    {
     "name": "stdout",
     "output_type": "stream",
     "text": [
      "<class 'pandas.core.frame.DataFrame'>\n",
      "RangeIndex: 139732 entries, 0 to 139731\n",
      "Data columns (total 10 columns):\n",
      "index                              139732 non-null int64\n",
      "Дата рейса                         139732 non-null datetime64[ns]\n",
      "Рейс                               139732 non-null int64\n",
      "А/П отправл                        139732 non-null object\n",
      "А/П прибыт                         139732 non-null object\n",
      "Номер ВС                           139732 non-null int64\n",
      "Время отправления по расписанию    139732 non-null datetime64[ns]\n",
      "Время отправления фактическое      139732 non-null datetime64[ns]\n",
      "Время прибытия по расписанию       139732 non-null datetime64[ns]\n",
      "Время прибытия фактическое         139732 non-null datetime64[ns]\n",
      "dtypes: datetime64[ns](5), int64(3), object(2)\n",
      "memory usage: 10.7+ MB\n"
     ]
    }
   ],
   "source": [
    "data.info()"
   ]
  },
  {
   "cell_type": "markdown",
   "metadata": {},
   "source": [
    "#### Количество уникальных значений по каждому из признаков"
   ]
  },
  {
   "cell_type": "code",
   "execution_count": 7,
   "metadata": {},
   "outputs": [
    {
     "data": {
      "text/plain": [
       "А/П отправл                           157\n",
       "А/П прибыт                            157\n",
       "Дата рейса                            187\n",
       "Номер ВС                              246\n",
       "Рейс                                 1074\n",
       "Время отправления по расписанию     49597\n",
       "Время прибытия по расписанию        50664\n",
       "Время отправления фактическое      107901\n",
       "Время прибытия фактическое         109297\n",
       "index                              139732\n",
       "dtype: int64"
      ]
     },
     "execution_count": 7,
     "metadata": {},
     "output_type": "execute_result"
    }
   ],
   "source": [
    "data.nunique().sort_values()"
   ]
  },
  {
   "cell_type": "markdown",
   "metadata": {},
   "source": [
    "## Предобработка данных и работа с признаками"
   ]
  },
  {
   "cell_type": "markdown",
   "metadata": {},
   "source": [
    "#### Поскольку аэропорты находятся в разных часовых поясях, требуется внести соответствующие изменения в датасет."
   ]
  },
  {
   "cell_type": "code",
   "execution_count": 8,
   "metadata": {},
   "outputs": [],
   "source": [
    "# Создадим словарь с IATA кодами.\n",
    "\n",
    "req = requests.get('http://api.travelpayouts.com/data/ru/airports.json')\n",
    "row_data = json.loads(req.text)\n",
    "\n",
    "time_zone = []\n",
    "for i in row_data:\n",
    "    city = (i['city_code'], i['time_zone'])\n",
    "    port = (i['code'], i['time_zone'])\n",
    "    time_zone.append(city)\n",
    "    time_zone.append(port)\n",
    "time_zone = dict(time_zone)"
   ]
  },
  {
   "cell_type": "code",
   "execution_count": 9,
   "metadata": {},
   "outputs": [],
   "source": [
    "data['Зона отправл'] = None\n",
    "for i, j in enumerate(data['А/П отправл']):\n",
    "    data['Зона отправл'][i] = pytz.timezone(time_zone[j])"
   ]
  },
  {
   "cell_type": "code",
   "execution_count": 10,
   "metadata": {},
   "outputs": [],
   "source": [
    "data['Зона прибыт'] = None\n",
    "for i, j in enumerate(data['А/П прибыт']):\n",
    "    data['Зона прибыт'][i] = pytz.timezone(time_zone[j])"
   ]
  },
  {
   "cell_type": "code",
   "execution_count": 11,
   "metadata": {},
   "outputs": [],
   "source": [
    "data['Время отправления по расписанию UTC'] = None\n",
    "for i, j in enumerate(data['Время отправления по расписанию']):\n",
    "    data['Время отправления по расписанию UTC'][i] = j.tz_localize('UTC').tz_convert(data['Зона отправл'][i])\n",
    "\n",
    "data['Время отправления фактическое UTC'] = None\n",
    "for i, j in enumerate(data['Время отправления фактическое']):\n",
    "    data['Время отправления фактическое UTC'][i] = j.tz_localize('UTC').tz_convert(data['Зона отправл'][i])"
   ]
  },
  {
   "cell_type": "code",
   "execution_count": 12,
   "metadata": {},
   "outputs": [],
   "source": [
    "data['Время прибытия по расписанию UTC'] = None\n",
    "for i, j in enumerate(data['Время прибытия по расписанию']):\n",
    "    data['Время прибытия по расписанию UTC'][i] = j.tz_localize('UTC').tz_convert(data['Зона прибыт'][i])\n",
    "\n",
    "data['Время прибытия фактическое UTC'] = None\n",
    "for i, j in enumerate(data['Время прибытия фактическое']):\n",
    "    data['Время прибытия фактическое UTC'][i] = j.tz_localize('UTC').tz_convert(data['Зона прибыт'][i])"
   ]
  },
  {
   "cell_type": "code",
   "execution_count": 13,
   "metadata": {},
   "outputs": [
    {
     "data": {
      "text/html": [
       "<div>\n",
       "<style scoped>\n",
       "    .dataframe tbody tr th:only-of-type {\n",
       "        vertical-align: middle;\n",
       "    }\n",
       "\n",
       "    .dataframe tbody tr th {\n",
       "        vertical-align: top;\n",
       "    }\n",
       "\n",
       "    .dataframe thead th {\n",
       "        text-align: right;\n",
       "    }\n",
       "</style>\n",
       "<table border=\"1\" class=\"dataframe\">\n",
       "  <thead>\n",
       "    <tr style=\"text-align: right;\">\n",
       "      <th></th>\n",
       "      <th>index</th>\n",
       "      <th>Дата рейса</th>\n",
       "      <th>Рейс</th>\n",
       "      <th>А/П отправл</th>\n",
       "      <th>А/П прибыт</th>\n",
       "      <th>Номер ВС</th>\n",
       "      <th>Время отправления по расписанию</th>\n",
       "      <th>Время отправления фактическое</th>\n",
       "      <th>Время прибытия по расписанию</th>\n",
       "      <th>Время прибытия фактическое</th>\n",
       "      <th>Зона отправл</th>\n",
       "      <th>Зона прибыт</th>\n",
       "      <th>Время отправления по расписанию UTC</th>\n",
       "      <th>Время отправления фактическое UTC</th>\n",
       "      <th>Время прибытия по расписанию UTC</th>\n",
       "      <th>Время прибытия фактическое UTC</th>\n",
       "    </tr>\n",
       "  </thead>\n",
       "  <tbody>\n",
       "    <tr>\n",
       "      <th>0</th>\n",
       "      <td>0</td>\n",
       "      <td>2018-03-01</td>\n",
       "      <td>1</td>\n",
       "      <td>MOW</td>\n",
       "      <td>ARH</td>\n",
       "      <td>1</td>\n",
       "      <td>2018-03-01 00:05:00</td>\n",
       "      <td>2018-02-28 23:48:00</td>\n",
       "      <td>2018-03-01 02:00:00</td>\n",
       "      <td>2018-03-01 01:48:00</td>\n",
       "      <td>Europe/Moscow</td>\n",
       "      <td>Europe/Moscow</td>\n",
       "      <td>2018-03-01 03:05:00+03:00</td>\n",
       "      <td>2018-03-01 02:48:00+03:00</td>\n",
       "      <td>2018-03-01 05:00:00+03:00</td>\n",
       "      <td>2018-03-01 04:48:00+03:00</td>\n",
       "    </tr>\n",
       "    <tr>\n",
       "      <th>1</th>\n",
       "      <td>1</td>\n",
       "      <td>2018-03-01</td>\n",
       "      <td>2</td>\n",
       "      <td>MOW</td>\n",
       "      <td>EGO</td>\n",
       "      <td>2</td>\n",
       "      <td>2018-03-01 00:05:00</td>\n",
       "      <td>2018-03-01 00:00:00</td>\n",
       "      <td>2018-03-01 01:30:00</td>\n",
       "      <td>2018-03-01 01:55:00</td>\n",
       "      <td>Europe/Moscow</td>\n",
       "      <td>Europe/Moscow</td>\n",
       "      <td>2018-03-01 03:05:00+03:00</td>\n",
       "      <td>2018-03-01 03:00:00+03:00</td>\n",
       "      <td>2018-03-01 04:30:00+03:00</td>\n",
       "      <td>2018-03-01 04:55:00+03:00</td>\n",
       "    </tr>\n",
       "    <tr>\n",
       "      <th>2</th>\n",
       "      <td>2</td>\n",
       "      <td>2018-03-01</td>\n",
       "      <td>3</td>\n",
       "      <td>MOW</td>\n",
       "      <td>AKX</td>\n",
       "      <td>3</td>\n",
       "      <td>2018-03-01 00:15:00</td>\n",
       "      <td>2018-03-01 00:14:00</td>\n",
       "      <td>2018-03-01 02:40:00</td>\n",
       "      <td>2018-03-01 02:32:00</td>\n",
       "      <td>Europe/Moscow</td>\n",
       "      <td>Asia/Aqtobe</td>\n",
       "      <td>2018-03-01 03:15:00+03:00</td>\n",
       "      <td>2018-03-01 03:14:00+03:00</td>\n",
       "      <td>2018-03-01 07:40:00+05:00</td>\n",
       "      <td>2018-03-01 07:32:00+05:00</td>\n",
       "    </tr>\n",
       "    <tr>\n",
       "      <th>3</th>\n",
       "      <td>3</td>\n",
       "      <td>2018-03-01</td>\n",
       "      <td>4</td>\n",
       "      <td>LED</td>\n",
       "      <td>MOW</td>\n",
       "      <td>4</td>\n",
       "      <td>2018-03-01 00:20:00</td>\n",
       "      <td>2018-03-01 00:11:00</td>\n",
       "      <td>2018-03-01 01:35:00</td>\n",
       "      <td>2018-03-01 01:39:00</td>\n",
       "      <td>Europe/Moscow</td>\n",
       "      <td>Europe/Moscow</td>\n",
       "      <td>2018-03-01 03:20:00+03:00</td>\n",
       "      <td>2018-03-01 03:11:00+03:00</td>\n",
       "      <td>2018-03-01 04:35:00+03:00</td>\n",
       "      <td>2018-03-01 04:39:00+03:00</td>\n",
       "    </tr>\n",
       "    <tr>\n",
       "      <th>4</th>\n",
       "      <td>4</td>\n",
       "      <td>2018-03-01</td>\n",
       "      <td>5</td>\n",
       "      <td>MOW</td>\n",
       "      <td>KRR</td>\n",
       "      <td>5</td>\n",
       "      <td>2018-03-01 00:25:00</td>\n",
       "      <td>2018-03-01 00:21:00</td>\n",
       "      <td>2018-03-01 02:40:00</td>\n",
       "      <td>2018-03-01 02:41:00</td>\n",
       "      <td>Europe/Moscow</td>\n",
       "      <td>Europe/Moscow</td>\n",
       "      <td>2018-03-01 03:25:00+03:00</td>\n",
       "      <td>2018-03-01 03:21:00+03:00</td>\n",
       "      <td>2018-03-01 05:40:00+03:00</td>\n",
       "      <td>2018-03-01 05:41:00+03:00</td>\n",
       "    </tr>\n",
       "  </tbody>\n",
       "</table>\n",
       "</div>"
      ],
      "text/plain": [
       "   index Дата рейса  Рейс А/П отправл А/П прибыт  Номер ВС  \\\n",
       "0      0 2018-03-01     1         MOW        ARH         1   \n",
       "1      1 2018-03-01     2         MOW        EGO         2   \n",
       "2      2 2018-03-01     3         MOW        AKX         3   \n",
       "3      3 2018-03-01     4         LED        MOW         4   \n",
       "4      4 2018-03-01     5         MOW        KRR         5   \n",
       "\n",
       "  Время отправления по расписанию Время отправления фактическое  \\\n",
       "0             2018-03-01 00:05:00           2018-02-28 23:48:00   \n",
       "1             2018-03-01 00:05:00           2018-03-01 00:00:00   \n",
       "2             2018-03-01 00:15:00           2018-03-01 00:14:00   \n",
       "3             2018-03-01 00:20:00           2018-03-01 00:11:00   \n",
       "4             2018-03-01 00:25:00           2018-03-01 00:21:00   \n",
       "\n",
       "  Время прибытия по расписанию Время прибытия фактическое   Зона отправл  \\\n",
       "0          2018-03-01 02:00:00        2018-03-01 01:48:00  Europe/Moscow   \n",
       "1          2018-03-01 01:30:00        2018-03-01 01:55:00  Europe/Moscow   \n",
       "2          2018-03-01 02:40:00        2018-03-01 02:32:00  Europe/Moscow   \n",
       "3          2018-03-01 01:35:00        2018-03-01 01:39:00  Europe/Moscow   \n",
       "4          2018-03-01 02:40:00        2018-03-01 02:41:00  Europe/Moscow   \n",
       "\n",
       "     Зона прибыт Время отправления по расписанию UTC  \\\n",
       "0  Europe/Moscow           2018-03-01 03:05:00+03:00   \n",
       "1  Europe/Moscow           2018-03-01 03:05:00+03:00   \n",
       "2    Asia/Aqtobe           2018-03-01 03:15:00+03:00   \n",
       "3  Europe/Moscow           2018-03-01 03:20:00+03:00   \n",
       "4  Europe/Moscow           2018-03-01 03:25:00+03:00   \n",
       "\n",
       "  Время отправления фактическое UTC Время прибытия по расписанию UTC  \\\n",
       "0         2018-03-01 02:48:00+03:00        2018-03-01 05:00:00+03:00   \n",
       "1         2018-03-01 03:00:00+03:00        2018-03-01 04:30:00+03:00   \n",
       "2         2018-03-01 03:14:00+03:00        2018-03-01 07:40:00+05:00   \n",
       "3         2018-03-01 03:11:00+03:00        2018-03-01 04:35:00+03:00   \n",
       "4         2018-03-01 03:21:00+03:00        2018-03-01 05:40:00+03:00   \n",
       "\n",
       "  Время прибытия фактическое UTC  \n",
       "0      2018-03-01 04:48:00+03:00  \n",
       "1      2018-03-01 04:55:00+03:00  \n",
       "2      2018-03-01 07:32:00+05:00  \n",
       "3      2018-03-01 04:39:00+03:00  \n",
       "4      2018-03-01 05:41:00+03:00  "
      ]
     },
     "execution_count": 13,
     "metadata": {},
     "output_type": "execute_result"
    }
   ],
   "source": [
    "data.head()"
   ]
  },
  {
   "cell_type": "markdown",
   "metadata": {},
   "source": [
    "### Создание и анализ целевой переменной"
   ]
  },
  {
   "cell_type": "markdown",
   "metadata": {},
   "source": [
    "#### Создаем переменные: 'Задержка отправления' и 'Задержка прибытия'"
   ]
  },
  {
   "cell_type": "code",
   "execution_count": 14,
   "metadata": {},
   "outputs": [],
   "source": [
    "data['Задержка отправления'] = data['Время отправления фактическое UTC'] - data['Время отправления по расписанию UTC']\n",
    "data['Задержка прибытия'] = data['Время прибытия фактическое UTC'] - data['Время прибытия по расписанию UTC']"
   ]
  },
  {
   "cell_type": "code",
   "execution_count": 15,
   "metadata": {},
   "outputs": [
    {
     "name": "stdout",
     "output_type": "stream",
     "text": [
      "<class 'pandas.core.frame.DataFrame'>\n",
      "RangeIndex: 139732 entries, 0 to 139731\n",
      "Data columns (total 18 columns):\n",
      "index                                  139732 non-null int64\n",
      "Дата рейса                             139732 non-null datetime64[ns]\n",
      "Рейс                                   139732 non-null int64\n",
      "А/П отправл                            139732 non-null object\n",
      "А/П прибыт                             139732 non-null object\n",
      "Номер ВС                               139732 non-null int64\n",
      "Время отправления по расписанию        139732 non-null datetime64[ns]\n",
      "Время отправления фактическое          139732 non-null datetime64[ns]\n",
      "Время прибытия по расписанию           139732 non-null datetime64[ns]\n",
      "Время прибытия фактическое             139732 non-null datetime64[ns]\n",
      "Зона отправл                           139732 non-null object\n",
      "Зона прибыт                            139732 non-null object\n",
      "Время отправления по расписанию UTC    139732 non-null object\n",
      "Время отправления фактическое UTC      139732 non-null object\n",
      "Время прибытия по расписанию UTC       139732 non-null object\n",
      "Время прибытия фактическое UTC         139732 non-null object\n",
      "Задержка отправления                   139732 non-null timedelta64[ns]\n",
      "Задержка прибытия                      139732 non-null timedelta64[ns]\n",
      "dtypes: datetime64[ns](5), int64(3), object(8), timedelta64[ns](2)\n",
      "memory usage: 19.2+ MB\n"
     ]
    }
   ],
   "source": [
    "data.info()"
   ]
  },
  {
   "cell_type": "markdown",
   "metadata": {},
   "source": [
    "#### Приведем тип переменных к вещественным числам и выразим задержку в минутах"
   ]
  },
  {
   "cell_type": "code",
   "execution_count": 16,
   "metadata": {},
   "outputs": [],
   "source": [
    "data['Задержка отправления'] = list(map(pd.Timedelta.total_seconds, data['Задержка отправления']))\n",
    "data['Задержка прибытия'] = list(map(pd.Timedelta.total_seconds, data['Задержка прибытия']))\n",
    "\n",
    "data['Задержка отправления'] = data['Задержка отправления'].astype(np.float) / 60\n",
    "data['Задержка прибытия'] = data['Задержка прибытия'].astype(np.float) / 60"
   ]
  },
  {
   "cell_type": "markdown",
   "metadata": {},
   "source": [
    "Посмотрим на графике, как распределены обе переменные"
   ]
  },
  {
   "cell_type": "code",
   "execution_count": 17,
   "metadata": {},
   "outputs": [
    {
     "data": {
      "image/png": "[encoded data removed]",
      "text/plain": [
       "<Figure size 1440x720 with 1 Axes>"
      ]
     },
     "metadata": {
      "needs_background": "light"
     },
     "output_type": "display_data"
    }
   ],
   "source": [
    "plt.figure(figsize=(20,10))\n",
    "sns.kdeplot(data['Задержка отправления'], shade=True)\n",
    "sns.kdeplot(data['Задержка прибытия'], shade=True)\n",
    "\n",
    "plt.legend();"
   ]
  },
  {
   "cell_type": "code",
   "execution_count": 18,
   "metadata": {},
   "outputs": [
    {
     "data": {
      "image/png": "[encoded data removed]",
      "text/plain": [
       "<Figure size 1440x720 with 1 Axes>"
      ]
     },
     "metadata": {
      "needs_background": "light"
     },
     "output_type": "display_data"
    }
   ],
   "source": [
    "gap = data['Задержка прибытия'] - data['Задержка отправления']\n",
    "plt.figure(figsize=(20,10))\n",
    "sns.distplot(gap, bins=100, kde=False, fit=norm);"
   ]
  },
  {
   "cell_type": "code",
   "execution_count": 19,
   "metadata": {},
   "outputs": [
    {
     "data": {
      "text/plain": [
       "count    139732.000000\n",
       "mean          5.765687\n",
       "std          15.380439\n",
       "min        -949.000000\n",
       "25%          -2.000000\n",
       "50%           4.000000\n",
       "75%          12.000000\n",
       "max        1112.000000\n",
       "dtype: float64"
      ]
     },
     "execution_count": 19,
     "metadata": {},
     "output_type": "execute_result"
    }
   ],
   "source": [
    "gap.describe()"
   ]
  },
  {
   "cell_type": "markdown",
   "metadata": {},
   "source": [
    "Мы видим, что данные содержат выбросы. Видимо, экстремальные значения переменных вызваны форсмажорными обстоятельствами, которые не поддаются предсказанию и будут негативно влиять на качество модели."
   ]
  },
  {
   "cell_type": "markdown",
   "metadata": {},
   "source": [
    "Примем за целевую переменную задержку прибытия, поскольку в конечном итоге именно она указывает на задержку рейса. Если же требуется предсказать обе переменные, то задержка отправления будет рассчитываться аналогично."
   ]
  },
  {
   "cell_type": "code",
   "execution_count": 20,
   "metadata": {},
   "outputs": [],
   "source": [
    "TARGET_NAME = 'Задержка прибытия'"
   ]
  },
  {
   "cell_type": "markdown",
   "metadata": {},
   "source": [
    "### Анализ целевой переменной"
   ]
  },
  {
   "cell_type": "code",
   "execution_count": 21,
   "metadata": {},
   "outputs": [
    {
     "data": {
      "text/plain": [
       "count    139732.000000\n",
       "mean          2.990868\n",
       "std          51.605647\n",
       "min        -953.000000\n",
       "25%          -9.000000\n",
       "50%          -2.000000\n",
       "75%           6.000000\n",
       "max        6355.000000\n",
       "Name: Задержка прибытия, dtype: float64"
      ]
     },
     "execution_count": 21,
     "metadata": {},
     "output_type": "execute_result"
    }
   ],
   "source": [
    "data[TARGET_NAME].describe()"
   ]
  },
  {
   "cell_type": "markdown",
   "metadata": {},
   "source": [
    "#### QQ plot для сравнения с нормальным распределением"
   ]
  },
  {
   "cell_type": "code",
   "execution_count": 22,
   "metadata": {},
   "outputs": [
    {
     "data": {
      "image/png": "[encoded data removed]",
      "text/plain": [
       "<Figure size 432x288 with 1 Axes>"
      ]
     },
     "metadata": {
      "needs_background": "light"
     },
     "output_type": "display_data"
    }
   ],
   "source": [
    "f, ax = plt.subplots()\n",
    "probplot(data[TARGET_NAME], plot=ax);"
   ]
  },
  {
   "cell_type": "markdown",
   "metadata": {},
   "source": [
    "На графике видно, что распределение целевой переменной очень близко к нормальному, но картину портят выбросы."
   ]
  },
  {
   "cell_type": "code",
   "execution_count": 23,
   "metadata": {},
   "outputs": [],
   "source": [
    "quantile = data.loc[\n",
    "    (data[TARGET_NAME] > data[TARGET_NAME].quantile(0.001)) & (data[TARGET_NAME] < data[TARGET_NAME].quantile(0.97))\n",
    "                   ]"
   ]
  },
  {
   "cell_type": "code",
   "execution_count": 24,
   "metadata": {},
   "outputs": [
    {
     "data": {
      "image/png": "[encoded data removed]",
      "text/plain": [
       "<Figure size 1440x720 with 1 Axes>"
      ]
     },
     "metadata": {
      "needs_background": "light"
     },
     "output_type": "display_data"
    }
   ],
   "source": [
    "plt.figure(figsize=(20,10))\n",
    "sns.distplot(quantile[TARGET_NAME], bins=15, kde=False, fit=norm);"
   ]
  },
  {
   "cell_type": "markdown",
   "metadata": {},
   "source": [
    "При попытке избавиться от выбросов в целевой переменной путем замены экстремальных значений на значения 0.001 и 0.97 квантилей качество предсказания ухудшилось почти в два раза."
   ]
  },
  {
   "cell_type": "markdown",
   "metadata": {},
   "source": [
    "## Разбиение на train и test"
   ]
  },
  {
   "cell_type": "code",
   "execution_count": 25,
   "metadata": {},
   "outputs": [],
   "source": [
    "def split_data(data, split_index):\n",
    "    '''\n",
    "    Разбиваем датасет на два набора данных по индексу\n",
    "    '''\n",
    "    return data.loc[data['index'] <= split_index].copy(), \\\n",
    "           data.loc[data['index'] >  split_index].copy()"
   ]
  },
  {
   "cell_type": "code",
   "execution_count": 26,
   "metadata": {},
   "outputs": [],
   "source": [
    "train, test = split_data(data, data.shape[0] * 0.70)"
   ]
  },
  {
   "cell_type": "code",
   "execution_count": 27,
   "metadata": {},
   "outputs": [
    {
     "data": {
      "text/plain": [
       "(97813, 18)"
      ]
     },
     "execution_count": 27,
     "metadata": {},
     "output_type": "execute_result"
    }
   ],
   "source": [
    "train.shape"
   ]
  },
  {
   "cell_type": "code",
   "execution_count": 28,
   "metadata": {},
   "outputs": [
    {
     "data": {
      "text/plain": [
       "(41919, 18)"
      ]
     },
     "execution_count": 28,
     "metadata": {},
     "output_type": "execute_result"
    }
   ],
   "source": [
    "test.shape"
   ]
  },
  {
   "cell_type": "markdown",
   "metadata": {},
   "source": [
    "### Создание новых признаков и формирование списков признаков"
   ]
  },
  {
   "cell_type": "markdown",
   "metadata": {},
   "source": [
    "#### Добавим календарь в датасет"
   ]
  },
  {
   "cell_type": "markdown",
   "metadata": {},
   "source": [
    "#### Создадим признаки 'День недели' и 'Час'"
   ]
  },
  {
   "cell_type": "code",
   "execution_count": 29,
   "metadata": {},
   "outputs": [],
   "source": [
    "# train['Месяц'] = train['Время отправления по расписанию'].dt.month\n",
    "train['Неделя в году'] = train['Время отправления по расписанию'].dt.weekofyear\n",
    "train['День недели'] = train['Время отправления по расписанию'].dt.dayofweek\n",
    "train['Час'] = train['Время отправления по расписанию'].dt.hour"
   ]
  },
  {
   "cell_type": "markdown",
   "metadata": {},
   "source": [
    "#### Создадим переменную 'Длительность перелета'. "
   ]
  },
  {
   "cell_type": "code",
   "execution_count": 31,
   "metadata": {},
   "outputs": [],
   "source": [
    "train['Длительность перелета'] = train['Время прибытия по расписанию'] - train['Время отправления по расписанию']\n",
    "train['Длительность перелета'] = list(map(pd.Timedelta.total_seconds, train['Длительность перелета']))\n",
    "train['Длительность перелета'] = train['Длительность перелета'].astype(np.float) / 60"
   ]
  },
  {
   "cell_type": "markdown",
   "metadata": {},
   "source": [
    "#### Добавим количество рейсов в день"
   ]
  },
  {
   "cell_type": "code",
   "execution_count": 32,
   "metadata": {},
   "outputs": [],
   "source": [
    "flights_per_day = data.groupby('Дата рейса')['index'].count()\n",
    "flights_per_day = pd.DataFrame(flights_per_day).rename(columns={'index': 'Число рейсов в день'}).reset_index()\n",
    "\n",
    "train = train.merge(flights_per_day, on='Дата рейса', how='left')"
   ]
  },
  {
   "cell_type": "markdown",
   "metadata": {},
   "source": [
    "#### Посчитаем частоту каждого рейса"
   ]
  },
  {
   "cell_type": "code",
   "execution_count": 33,
   "metadata": {},
   "outputs": [],
   "source": [
    "qnt_of_flights = train.groupby('Рейс')['index'].count() \n",
    "qnt_of_flights = pd.DataFrame(qnt_of_flights).rename(columns={'index': 'Число рейсов'}).reset_index()\n",
    "qnt_of_flights['Частота рейса'] = qnt_of_flights['Число рейсов'] / train['Дата рейса'].nunique()\n",
    "\n",
    "train = train.merge(qnt_of_flights, on='Рейс', how='left')"
   ]
  },
  {
   "cell_type": "markdown",
   "metadata": {},
   "source": [
    "#### Посчитаем медианное значение для опоздания рейсов и создадим соответствующий признак"
   ]
  },
  {
   "cell_type": "code",
   "execution_count": 34,
   "metadata": {},
   "outputs": [],
   "source": [
    "flight = train.groupby(['Рейс'])[TARGET_NAME].median()\n",
    "flight = pd.DataFrame(flight).rename(columns={'Задержка прибытия': 'Средняя задержка рейса'}).reset_index()\n",
    "\n",
    "train = train.merge(flight, on='Рейс', how='left')"
   ]
  },
  {
   "cell_type": "markdown",
   "metadata": {},
   "source": [
    "#### Посчитаем медиану для задержки  в зависимости от аэропорта отправления"
   ]
  },
  {
   "cell_type": "code",
   "execution_count": 35,
   "metadata": {},
   "outputs": [],
   "source": [
    "departure = train.groupby(['А/П отправл'])[TARGET_NAME].median()\n",
    "departure = pd.DataFrame(departure).rename(columns={'Задержка прибытия': 'Средняя задержка из аэропорта'}).reset_index()\n",
    "\n",
    "train = train.merge(departure, on='А/П отправл', how='left')"
   ]
  },
  {
   "cell_type": "markdown",
   "metadata": {},
   "source": [
    "#### Посчитаем медиану для задержки в зависимости от аэропорта прибытия"
   ]
  },
  {
   "cell_type": "code",
   "execution_count": 36,
   "metadata": {},
   "outputs": [],
   "source": [
    "arrival = train.groupby(['А/П прибыт'])[TARGET_NAME].median()\n",
    "arrival = pd.DataFrame(arrival).rename(columns={'Задержка прибытия': 'Средняя задержка в аэропорт'}).reset_index()\n",
    "\n",
    "train = train.merge(arrival, on='А/П прибыт', how='left')"
   ]
  },
  {
   "cell_type": "markdown",
   "metadata": {},
   "source": [
    "#### Посчитаем медиану для задержки в зависимости от воздушного средства"
   ]
  },
  {
   "cell_type": "code",
   "execution_count": 37,
   "metadata": {},
   "outputs": [],
   "source": [
    "plane = train.groupby(['Номер ВС'])[TARGET_NAME].median()\n",
    "plane = pd.DataFrame(plane).rename(columns={'Задержка прибытия': 'Средняя задержка воздушного средства'}).reset_index()\n",
    "\n",
    "train = train.merge(plane, on='Номер ВС', how='left')"
   ]
  },
  {
   "cell_type": "markdown",
   "metadata": {},
   "source": [
    "### Приведение типов"
   ]
  },
  {
   "cell_type": "markdown",
   "metadata": {},
   "source": [
    "Поля 'Рейс', 'Номер ВС', очевидно, категориальные признаки."
   ]
  },
  {
   "cell_type": "code",
   "execution_count": 38,
   "metadata": {},
   "outputs": [],
   "source": [
    "train['Рейс'] = train['Рейс'].astype('object')\n",
    "train['Номер ВС'] = train['Номер ВС'].astype('object')"
   ]
  },
  {
   "cell_type": "markdown",
   "metadata": {},
   "source": [
    "### Списки признаков"
   ]
  },
  {
   "cell_type": "markdown",
   "metadata": {},
   "source": [
    "#### Список количественных признаков"
   ]
  },
  {
   "cell_type": "code",
   "execution_count": 39,
   "metadata": {},
   "outputs": [
    {
     "data": {
      "text/plain": [
       "['Неделя в году',\n",
       " 'День недели',\n",
       " 'Час',\n",
       " 'Длительность перелета',\n",
       " 'Число рейсов в день',\n",
       " 'Число рейсов',\n",
       " 'Частота рейса',\n",
       " 'Средняя задержка рейса',\n",
       " 'Средняя задержка из аэропорта',\n",
       " 'Средняя задержка в аэропорт',\n",
       " 'Средняя задержка воздушного средства']"
      ]
     },
     "execution_count": 39,
     "metadata": {},
     "output_type": "execute_result"
    }
   ],
   "source": [
    "NUM_FEATURE_NAMES = train.select_dtypes(include=['int64', 'float64']).drop(\n",
    "    columns=['Задержка отправления', 'Задержка прибытия', 'index']).columns.tolist()\n",
    "NUM_FEATURE_NAMES"
   ]
  },
  {
   "cell_type": "markdown",
   "metadata": {},
   "source": [
    "#### Список категориальных признаков"
   ]
  },
  {
   "cell_type": "code",
   "execution_count": 40,
   "metadata": {},
   "outputs": [
    {
     "data": {
      "text/plain": [
       "['Рейс', 'А/П отправл', 'А/П прибыт', 'Номер ВС']"
      ]
     },
     "execution_count": 40,
     "metadata": {},
     "output_type": "execute_result"
    }
   ],
   "source": [
    "CAT_FEATURE_NAMES = train.select_dtypes(include='object').drop(columns=['Зона отправл',\n",
    " 'Зона прибыт',\n",
    " 'Время отправления по расписанию UTC',\n",
    " 'Время отправления фактическое UTC',\n",
    " 'Время прибытия по расписанию UTC',\n",
    " 'Время прибытия фактическое UTC']).columns.tolist()\n",
    "\n",
    "CAT_FEATURE_NAMES"
   ]
  },
  {
   "cell_type": "markdown",
   "metadata": {},
   "source": [
    "#### Список временных признаков"
   ]
  },
  {
   "cell_type": "code",
   "execution_count": 41,
   "metadata": {},
   "outputs": [
    {
     "data": {
      "text/plain": [
       "['Дата рейса',\n",
       " 'Время отправления по расписанию',\n",
       " 'Время отправления фактическое',\n",
       " 'Время прибытия по расписанию',\n",
       " 'Время прибытия фактическое']"
      ]
     },
     "execution_count": 41,
     "metadata": {},
     "output_type": "execute_result"
    }
   ],
   "source": [
    "TIME_FEATURE_NAMES = train.select_dtypes(\n",
    "    include=['datetime64', 'timedelta64']).columns.tolist()\n",
    "\n",
    "TIME_FEATURE_NAMES"
   ]
  },
  {
   "cell_type": "code",
   "execution_count": 42,
   "metadata": {},
   "outputs": [
    {
     "name": "stdout",
     "output_type": "stream",
     "text": [
      "<class 'pandas.core.frame.DataFrame'>\n",
      "Int64Index: 97813 entries, 0 to 97812\n",
      "Data columns (total 29 columns):\n",
      "index                                   97813 non-null int64\n",
      "Дата рейса                              97813 non-null datetime64[ns]\n",
      "Рейс                                    97813 non-null object\n",
      "А/П отправл                             97813 non-null object\n",
      "А/П прибыт                              97813 non-null object\n",
      "Номер ВС                                97813 non-null object\n",
      "Время отправления по расписанию         97813 non-null datetime64[ns]\n",
      "Время отправления фактическое           97813 non-null datetime64[ns]\n",
      "Время прибытия по расписанию            97813 non-null datetime64[ns]\n",
      "Время прибытия фактическое              97813 non-null datetime64[ns]\n",
      "Зона отправл                            97813 non-null object\n",
      "Зона прибыт                             97813 non-null object\n",
      "Время отправления по расписанию UTC     97813 non-null object\n",
      "Время отправления фактическое UTC       97813 non-null object\n",
      "Время прибытия по расписанию UTC        97813 non-null object\n",
      "Время прибытия фактическое UTC          97813 non-null object\n",
      "Задержка отправления                    97813 non-null float64\n",
      "Задержка прибытия                       97813 non-null float64\n",
      "Неделя в году                           97813 non-null int64\n",
      "День недели                             97813 non-null int64\n",
      "Час                                     97813 non-null int64\n",
      "Длительность перелета                   97813 non-null float64\n",
      "Число рейсов в день                     97813 non-null int64\n",
      "Число рейсов                            97813 non-null int64\n",
      "Частота рейса                           97813 non-null float64\n",
      "Средняя задержка рейса                  97813 non-null float64\n",
      "Средняя задержка из аэропорта           97813 non-null float64\n",
      "Средняя задержка в аэропорт             97813 non-null float64\n",
      "Средняя задержка воздушного средства    97813 non-null float64\n",
      "dtypes: datetime64[ns](5), float64(8), int64(6), object(10)\n",
      "memory usage: 22.4+ MB\n"
     ]
    }
   ],
   "source": [
    "train.info()"
   ]
  },
  {
   "cell_type": "markdown",
   "metadata": {},
   "source": [
    "## Преобразуем тест"
   ]
  },
  {
   "cell_type": "code",
   "execution_count": 43,
   "metadata": {},
   "outputs": [],
   "source": [
    "def change_test(test):\n",
    "    '''\n",
    "    Приводим тестовую выборку в соответствие с трейном\n",
    "    '''\n",
    "#     Календарь\n",
    "#     test['Месяц'] = test['Время отправления по расписанию'].dt.month\n",
    "    test['Неделя в году'] = test['Время отправления по расписанию'].dt.weekofyear\n",
    "    test['День недели'] = test['Время отправления по расписанию'].dt.dayofweek\n",
    "    test['Час'] = test['Время отправления по расписанию'].dt.hour\n",
    "#     Длительность перелета\n",
    "    test['Длительность перелета'] = test['Время прибытия по расписанию'] - test['Время отправления по расписанию']\n",
    "    test['Длительность перелета'] = list(map(pd.Timedelta.total_seconds, test['Длительность перелета']))\n",
    "    test['Длительность перелета'] = test['Длительность перелета'].astype(np.float) / 60\n",
    "#     Количество рейсов в день\n",
    "    test = test.merge(flights_per_day, on='Дата рейса', how='left')\n",
    "# #     Частота рейсов\n",
    "    test = test.merge(qnt_of_flights, on='Рейс', how='left')\n",
    "#     Задержка рейса\n",
    "    test = test.merge(flight, on='Рейс', how='left')\n",
    "#     Задержка аэропорта отправления\n",
    "    test = test.merge(departure, on='А/П отправл', how='left')\n",
    "#     Задержка аэропорта прибытия\n",
    "    test = test.merge(arrival, on='А/П прибыт', how='left')\n",
    "#     Задержка воздушного средства\n",
    "    test = test.merge(plane, on='Номер ВС', how='left')\n",
    "#     Приведение к категориальному типу\n",
    "    test['Рейс'] = test['Рейс'].astype('object')\n",
    "    test['Номер ВС'] = test['Номер ВС'].astype('object')\n",
    "    \n",
    "    return test"
   ]
  },
  {
   "cell_type": "code",
   "execution_count": 44,
   "metadata": {},
   "outputs": [],
   "source": [
    "test = change_test(test)"
   ]
  },
  {
   "cell_type": "code",
   "execution_count": 45,
   "metadata": {},
   "outputs": [
    {
     "data": {
      "text/plain": [
       "index                                     0\n",
       "Дата рейса                                0\n",
       "Рейс                                      0\n",
       "А/П отправл                               0\n",
       "А/П прибыт                                0\n",
       "Номер ВС                                  0\n",
       "Время отправления по расписанию           0\n",
       "Время отправления фактическое             0\n",
       "Время прибытия по расписанию              0\n",
       "Время прибытия фактическое                0\n",
       "Зона отправл                              0\n",
       "Зона прибыт                               0\n",
       "Время отправления по расписанию UTC       0\n",
       "Время отправления фактическое UTC         0\n",
       "Время прибытия по расписанию UTC          0\n",
       "Время прибытия фактическое UTC            0\n",
       "Задержка отправления                      0\n",
       "Задержка прибытия                         0\n",
       "Неделя в году                             0\n",
       "День недели                               0\n",
       "Час                                       0\n",
       "Длительность перелета                     0\n",
       "Число рейсов в день                       0\n",
       "Число рейсов                            410\n",
       "Частота рейса                           410\n",
       "Средняя задержка рейса                  410\n",
       "Средняя задержка из аэропорта            29\n",
       "Средняя задержка в аэропорт              29\n",
       "Средняя задержка воздушного средства    769\n",
       "dtype: int64"
      ]
     },
     "execution_count": 45,
     "metadata": {},
     "output_type": "execute_result"
    }
   ],
   "source": [
    "test.isnull().sum()"
   ]
  },
  {
   "cell_type": "markdown",
   "metadata": {},
   "source": [
    "Заполним пропуски медианами, поскольку медианные значения менее чувствительны к выбросам."
   ]
  },
  {
   "cell_type": "code",
   "execution_count": 46,
   "metadata": {},
   "outputs": [],
   "source": [
    "def fill_missing_values(train, test, NUM_FEATURE_NAMES):\n",
    "    '''\n",
    "    Заменяет пропуски в количественных признаках медианой\n",
    "    '''\n",
    "    imputer = SimpleImputer(strategy=\"median\")\n",
    "    imputer.fit(train[NUM_FEATURE_NAMES].values)\n",
    "    test[NUM_FEATURE_NAMES] = imputer.transform(test[NUM_FEATURE_NAMES].values)"
   ]
  },
  {
   "cell_type": "code",
   "execution_count": 47,
   "metadata": {},
   "outputs": [],
   "source": [
    "fill_missing_values(train, test, NUM_FEATURE_NAMES)"
   ]
  },
  {
   "cell_type": "code",
   "execution_count": 48,
   "metadata": {},
   "outputs": [
    {
     "name": "stdout",
     "output_type": "stream",
     "text": [
      "<class 'pandas.core.frame.DataFrame'>\n",
      "Int64Index: 41919 entries, 0 to 41918\n",
      "Data columns (total 29 columns):\n",
      "index                                   41919 non-null int64\n",
      "Дата рейса                              41919 non-null datetime64[ns]\n",
      "Рейс                                    41919 non-null object\n",
      "А/П отправл                             41919 non-null object\n",
      "А/П прибыт                              41919 non-null object\n",
      "Номер ВС                                41919 non-null object\n",
      "Время отправления по расписанию         41919 non-null datetime64[ns]\n",
      "Время отправления фактическое           41919 non-null datetime64[ns]\n",
      "Время прибытия по расписанию            41919 non-null datetime64[ns]\n",
      "Время прибытия фактическое              41919 non-null datetime64[ns]\n",
      "Зона отправл                            41919 non-null object\n",
      "Зона прибыт                             41919 non-null object\n",
      "Время отправления по расписанию UTC     41919 non-null object\n",
      "Время отправления фактическое UTC       41919 non-null object\n",
      "Время прибытия по расписанию UTC        41919 non-null object\n",
      "Время прибытия фактическое UTC          41919 non-null object\n",
      "Задержка отправления                    41919 non-null float64\n",
      "Задержка прибытия                       41919 non-null float64\n",
      "Неделя в году                           41919 non-null float64\n",
      "День недели                             41919 non-null float64\n",
      "Час                                     41919 non-null float64\n",
      "Длительность перелета                   41919 non-null float64\n",
      "Число рейсов в день                     41919 non-null float64\n",
      "Число рейсов                            41919 non-null float64\n",
      "Частота рейса                           41919 non-null float64\n",
      "Средняя задержка рейса                  41919 non-null float64\n",
      "Средняя задержка из аэропорта           41919 non-null float64\n",
      "Средняя задержка в аэропорт             41919 non-null float64\n",
      "Средняя задержка воздушного средства    41919 non-null float64\n",
      "dtypes: datetime64[ns](5), float64(13), int64(1), object(10)\n",
      "memory usage: 9.6+ MB\n"
     ]
    }
   ],
   "source": [
    "test.info()"
   ]
  },
  {
   "cell_type": "markdown",
   "metadata": {},
   "source": [
    "### Матрица корреляций"
   ]
  },
  {
   "cell_type": "code",
   "execution_count": 49,
   "metadata": {},
   "outputs": [
    {
     "data": {
      "image/png": "[encoded data removed]",
      "text/plain": [
       "<Figure size 720x720 with 2 Axes>"
      ]
     },
     "metadata": {
      "needs_background": "light"
     },
     "output_type": "display_data"
    }
   ],
   "source": [
    "plt.figure(figsize=(10, 10))\n",
    "sns.heatmap(train.drop('index', axis=1).corr(), cmap='Purples', annot=True)\n",
    "plt.title('Матрица корреляций');"
   ]
  },
  {
   "cell_type": "code",
   "execution_count": 50,
   "metadata": {},
   "outputs": [],
   "source": [
    "X_train = train.drop(columns=['Дата рейса', \n",
    "                              'Задержка отправления', \n",
    "                              'Задержка прибытия',\n",
    "                              'Время отправления по расписанию',\n",
    "                              'Время отправления фактическое',\n",
    "                              'Время прибытия по расписанию',\n",
    "                              'Время прибытия фактическое', \n",
    "                              'Зона отправл', \n",
    "                              'Зона прибыт', \n",
    "                              'Время отправления по расписанию UTC', \n",
    "                              'Время отправления фактическое UTC', \n",
    "                              'Время прибытия по расписанию UTC', \n",
    "                              'Время прибытия фактическое UTC'])\n",
    "\n",
    "y_train = train[TARGET_NAME]"
   ]
  },
  {
   "cell_type": "code",
   "execution_count": 51,
   "metadata": {},
   "outputs": [],
   "source": [
    "X_test = test.drop(columns=['Дата рейса', \n",
    "                              'Задержка отправления', \n",
    "                              'Задержка прибытия',\n",
    "                              'Время отправления по расписанию',\n",
    "                              'Время отправления фактическое',\n",
    "                              'Время прибытия по расписанию',\n",
    "                              'Время прибытия фактическое', \n",
    "                              'Зона отправл', \n",
    "                              'Зона прибыт', \n",
    "                              'Время отправления по расписанию UTC', \n",
    "                              'Время отправления фактическое UTC', \n",
    "                              'Время прибытия по расписанию UTC', \n",
    "                              'Время прибытия фактическое UTC'])\n",
    "\n",
    "y_test = test[TARGET_NAME]"
   ]
  },
  {
   "cell_type": "code",
   "execution_count": 52,
   "metadata": {},
   "outputs": [
    {
     "name": "stdout",
     "output_type": "stream",
     "text": [
      "<class 'pandas.core.frame.DataFrame'>\n",
      "Int64Index: 41919 entries, 0 to 41918\n",
      "Data columns (total 16 columns):\n",
      "index                                   41919 non-null int64\n",
      "Рейс                                    41919 non-null object\n",
      "А/П отправл                             41919 non-null object\n",
      "А/П прибыт                              41919 non-null object\n",
      "Номер ВС                                41919 non-null object\n",
      "Неделя в году                           41919 non-null float64\n",
      "День недели                             41919 non-null float64\n",
      "Час                                     41919 non-null float64\n",
      "Длительность перелета                   41919 non-null float64\n",
      "Число рейсов в день                     41919 non-null float64\n",
      "Число рейсов                            41919 non-null float64\n",
      "Частота рейса                           41919 non-null float64\n",
      "Средняя задержка рейса                  41919 non-null float64\n",
      "Средняя задержка из аэропорта           41919 non-null float64\n",
      "Средняя задержка в аэропорт             41919 non-null float64\n",
      "Средняя задержка воздушного средства    41919 non-null float64\n",
      "dtypes: float64(11), int64(1), object(4)\n",
      "memory usage: 5.4+ MB\n"
     ]
    }
   ],
   "source": [
    "X_test.info()"
   ]
  },
  {
   "cell_type": "markdown",
   "metadata": {},
   "source": [
    "#### Сохраняем наборы данных для CatBoost перед обработкой категориальных признаков"
   ]
  },
  {
   "cell_type": "code",
   "execution_count": 53,
   "metadata": {},
   "outputs": [],
   "source": [
    "X_train_cat = X_train.drop('index', axis=1).copy()\n",
    "X_test_cat = X_test.drop('index', axis=1).copy()"
   ]
  },
  {
   "cell_type": "markdown",
   "metadata": {},
   "source": [
    "### Обработка категориальных признаков"
   ]
  },
  {
   "cell_type": "code",
   "execution_count": 54,
   "metadata": {},
   "outputs": [
    {
     "data": {
      "text/plain": [
       "['Рейс', 'А/П отправл', 'А/П прибыт', 'Номер ВС']"
      ]
     },
     "execution_count": 54,
     "metadata": {},
     "output_type": "execute_result"
    }
   ],
   "source": [
    "CAT_FEATURE_NAMES"
   ]
  },
  {
   "cell_type": "code",
   "execution_count": 55,
   "metadata": {},
   "outputs": [],
   "source": [
    "enc = OneHotEncoder(handle_unknown='ignore', sparse=False)\n",
    "\n",
    "dummies = pd.DataFrame(enc.fit_transform(X_train[CAT_FEATURE_NAMES])).reset_index()\n",
    "dummies_test = pd.DataFrame(enc.transform(X_test[CAT_FEATURE_NAMES])).set_index(\n",
    "    np.arange(test.iloc[0, 0], test.iloc[-1, 0]+1)).reset_index()\n",
    "\n",
    "X_train = X_train.merge(dummies, on='index', how='left').drop(columns=CAT_FEATURE_NAMES, axis=1)\n",
    "X_test = X_test.merge(dummies_test, on='index', how='left').drop(columns=CAT_FEATURE_NAMES, axis=1)"
   ]
  },
  {
   "cell_type": "code",
   "execution_count": 56,
   "metadata": {},
   "outputs": [],
   "source": [
    "X_train = X_train.set_index('index')\n",
    "X_test = X_test.set_index('index')"
   ]
  },
  {
   "cell_type": "markdown",
   "metadata": {},
   "source": [
    "### Стандартизация признаков"
   ]
  },
  {
   "cell_type": "code",
   "execution_count": 57,
   "metadata": {},
   "outputs": [],
   "source": [
    "scaler = StandardScaler()"
   ]
  },
  {
   "cell_type": "code",
   "execution_count": 58,
   "metadata": {},
   "outputs": [],
   "source": [
    "X_train[NUM_FEATURE_NAMES] = scaler.fit_transform(X_train[NUM_FEATURE_NAMES])\n",
    "X_test[NUM_FEATURE_NAMES] = scaler.transform(X_test[NUM_FEATURE_NAMES])"
   ]
  },
  {
   "cell_type": "markdown",
   "metadata": {},
   "source": [
    "# Выбор модели"
   ]
  },
  {
   "cell_type": "code",
   "execution_count": 59,
   "metadata": {},
   "outputs": [],
   "source": [
    "def train_model(model, X_train, y_train, X_test, y_test):\n",
    "    '''\n",
    "    Модель обучается на трейне, предсказывает на трейне и тесте, \n",
    "    выдает значения RMSE и R2 для трейна и теста\n",
    "    '''\n",
    "    model.fit(X_train, y_train)\n",
    "    y_pred_train = model.predict(X_train)\n",
    "    y_pred_test = model.predict(X_test)\n",
    "    \n",
    "    print(\"train_RMSE: {}\".format(np.sqrt(mean_squared_error((y_train), (y_pred_train)))))\n",
    "    print(\"test_RMSE: {}\".format(np.sqrt(mean_squared_error((y_test), (y_pred_test)))))\n",
    "    print()\n",
    "    print(\"train_R2: {}\".format(r2_score((y_train), (y_pred_train))))\n",
    "    print(\"test_R2: {}\".format(r2_score((y_test), (y_pred_test))))"
   ]
  },
  {
   "cell_type": "markdown",
   "metadata": {},
   "source": [
    "## Линейные модели"
   ]
  },
  {
   "cell_type": "markdown",
   "metadata": {},
   "source": [
    "#### LinearRegression"
   ]
  },
  {
   "cell_type": "code",
   "execution_count": 60,
   "metadata": {},
   "outputs": [
    {
     "name": "stdout",
     "output_type": "stream",
     "text": [
      "train_RMSE: 34.62274489932542\n",
      "test_RMSE: 621936220.7438135\n",
      "\n",
      "train_R2: 0.5468242664771579\n",
      "test_R2: -143238025367088.8\n"
     ]
    }
   ],
   "source": [
    "linreg = LinearRegression()\n",
    "train_model(linreg, X_train, y_train, X_test, y_test)"
   ]
  },
  {
   "cell_type": "markdown",
   "metadata": {},
   "source": [
    "#### LassoCV"
   ]
  },
  {
   "cell_type": "code",
   "execution_count": 61,
   "metadata": {},
   "outputs": [
    {
     "name": "stdout",
     "output_type": "stream",
     "text": [
      "train_RMSE: 41.7304731251613\n",
      "test_RMSE: 48.639526967038336\n",
      "\n",
      "train_R2: 0.34165995645146807\n",
      "test_R2: 0.12391688513748922\n"
     ]
    }
   ],
   "source": [
    "tscv = TimeSeriesSplit(n_splits=5)  # Разбиваем датасет, сохраняя временную структуру\n",
    "cv = tscv.split(X_train)\n",
    "\n",
    "lasso_cv = LassoCV(random_state=5, cv=cv)\n",
    "train_model(lasso_cv, X_train, y_train, X_test, y_test)"
   ]
  },
  {
   "cell_type": "code",
   "execution_count": 62,
   "metadata": {},
   "outputs": [
    {
     "data": {
      "text/plain": [
       "9.641228834321"
      ]
     },
     "execution_count": 62,
     "metadata": {},
     "output_type": "execute_result"
    }
   ],
   "source": [
    "lasso_cv.alpha_"
   ]
  },
  {
   "cell_type": "code",
   "execution_count": 63,
   "metadata": {},
   "outputs": [],
   "source": [
    "L1_coef = pd.DataFrame(lasso_cv.coef_, index=X_train.columns, \n",
    "                       columns=['weight']).sort_values(by='weight', ascending=False)"
   ]
  },
  {
   "cell_type": "code",
   "execution_count": 64,
   "metadata": {},
   "outputs": [
    {
     "data": {
      "text/html": [
       "<div>\n",
       "<style scoped>\n",
       "    .dataframe tbody tr th:only-of-type {\n",
       "        vertical-align: middle;\n",
       "    }\n",
       "\n",
       "    .dataframe tbody tr th {\n",
       "        vertical-align: top;\n",
       "    }\n",
       "\n",
       "    .dataframe thead th {\n",
       "        text-align: right;\n",
       "    }\n",
       "</style>\n",
       "<table border=\"1\" class=\"dataframe\">\n",
       "  <thead>\n",
       "    <tr style=\"text-align: right;\">\n",
       "      <th></th>\n",
       "      <th>weight</th>\n",
       "    </tr>\n",
       "  </thead>\n",
       "  <tbody>\n",
       "    <tr>\n",
       "      <th>Средняя задержка рейса</th>\n",
       "      <td>21.929449</td>\n",
       "    </tr>\n",
       "  </tbody>\n",
       "</table>\n",
       "</div>"
      ],
      "text/plain": [
       "                           weight\n",
       "Средняя задержка рейса  21.929449"
      ]
     },
     "execution_count": 64,
     "metadata": {},
     "output_type": "execute_result"
    }
   ],
   "source": [
    "L1_coef.loc[abs(L1_coef['weight'].values) > 0]"
   ]
  },
  {
   "cell_type": "markdown",
   "metadata": {},
   "source": [
    "L1 регуляризацию можно сипользовать для отбора признаков, но в этом случае обнулились коэффициенты всех признаков, кроме одного."
   ]
  },
  {
   "cell_type": "markdown",
   "metadata": {},
   "source": [
    "#### RidgeCV"
   ]
  },
  {
   "cell_type": "code",
   "execution_count": 65,
   "metadata": {},
   "outputs": [
    {
     "name": "stdout",
     "output_type": "stream",
     "text": [
      "train_RMSE: 39.62697840280477\n",
      "test_RMSE: 47.669687729950525\n",
      "\n",
      "train_R2: 0.40635669941455765\n",
      "test_R2: 0.15850558333491405\n"
     ]
    }
   ],
   "source": [
    "cv = tscv.split(X_train)  # Разбиваем датасет, сохраняя временную структуру\n",
    "\n",
    "ridge_cv = RidgeCV(cv=cv)\n",
    "train_model(ridge_cv, X_train, y_train, X_test, y_test)"
   ]
  },
  {
   "cell_type": "code",
   "execution_count": 66,
   "metadata": {},
   "outputs": [
    {
     "data": {
      "text/plain": [
       "10.0"
      ]
     },
     "execution_count": 66,
     "metadata": {},
     "output_type": "execute_result"
    }
   ],
   "source": [
    "ridge_cv.alpha_"
   ]
  },
  {
   "cell_type": "markdown",
   "metadata": {},
   "source": [
    "## Ансамблевые модели"
   ]
  },
  {
   "cell_type": "markdown",
   "metadata": {},
   "source": [
    "#### RandomForestRegressor"
   ]
  },
  {
   "cell_type": "code",
   "execution_count": 67,
   "metadata": {},
   "outputs": [],
   "source": [
    "rf = RandomForestRegressor(n_jobs=-1, \n",
    "                            random_state=5)"
   ]
  },
  {
   "cell_type": "code",
   "execution_count": 68,
   "metadata": {},
   "outputs": [
    {
     "name": "stdout",
     "output_type": "stream",
     "text": [
      "train_RMSE: 16.217698945385205\n",
      "test_RMSE: 49.7473525334841\n",
      "\n",
      "train_R2: 0.9005689276962872\n",
      "test_R2: 0.08355465124000028\n"
     ]
    }
   ],
   "source": [
    "train_model(rf, X_train, y_train, X_test, y_test)"
   ]
  },
  {
   "cell_type": "code",
   "execution_count": 69,
   "metadata": {},
   "outputs": [
    {
     "data": {
      "text/html": [
       "<div>\n",
       "<style scoped>\n",
       "    .dataframe tbody tr th:only-of-type {\n",
       "        vertical-align: middle;\n",
       "    }\n",
       "\n",
       "    .dataframe tbody tr th {\n",
       "        vertical-align: top;\n",
       "    }\n",
       "\n",
       "    .dataframe thead th {\n",
       "        text-align: right;\n",
       "    }\n",
       "</style>\n",
       "<table border=\"1\" class=\"dataframe\">\n",
       "  <thead>\n",
       "    <tr style=\"text-align: right;\">\n",
       "      <th></th>\n",
       "      <th>feature</th>\n",
       "      <th>importance</th>\n",
       "    </tr>\n",
       "  </thead>\n",
       "  <tbody>\n",
       "    <tr>\n",
       "      <th>7</th>\n",
       "      <td>Средняя задержка рейса</td>\n",
       "      <td>0.383435</td>\n",
       "    </tr>\n",
       "    <tr>\n",
       "      <th>4</th>\n",
       "      <td>Число рейсов в день</td>\n",
       "      <td>0.073965</td>\n",
       "    </tr>\n",
       "    <tr>\n",
       "      <th>0</th>\n",
       "      <td>Неделя в году</td>\n",
       "      <td>0.053627</td>\n",
       "    </tr>\n",
       "    <tr>\n",
       "      <th>1178</th>\n",
       "      <td>1167</td>\n",
       "      <td>0.052732</td>\n",
       "    </tr>\n",
       "    <tr>\n",
       "      <th>1</th>\n",
       "      <td>День недели</td>\n",
       "      <td>0.036301</td>\n",
       "    </tr>\n",
       "    <tr>\n",
       "      <th>3</th>\n",
       "      <td>Длительность перелета</td>\n",
       "      <td>0.024365</td>\n",
       "    </tr>\n",
       "    <tr>\n",
       "      <th>2</th>\n",
       "      <td>Час</td>\n",
       "      <td>0.019806</td>\n",
       "    </tr>\n",
       "    <tr>\n",
       "      <th>10</th>\n",
       "      <td>Средняя задержка воздушного средства</td>\n",
       "      <td>0.014914</td>\n",
       "    </tr>\n",
       "    <tr>\n",
       "      <th>1552</th>\n",
       "      <td>1541</td>\n",
       "      <td>0.010417</td>\n",
       "    </tr>\n",
       "    <tr>\n",
       "      <th>1536</th>\n",
       "      <td>1525</td>\n",
       "      <td>0.008903</td>\n",
       "    </tr>\n",
       "    <tr>\n",
       "      <th>8</th>\n",
       "      <td>Средняя задержка из аэропорта</td>\n",
       "      <td>0.008231</td>\n",
       "    </tr>\n",
       "    <tr>\n",
       "      <th>1184</th>\n",
       "      <td>1173</td>\n",
       "      <td>0.008209</td>\n",
       "    </tr>\n",
       "    <tr>\n",
       "      <th>1566</th>\n",
       "      <td>1555</td>\n",
       "      <td>0.007559</td>\n",
       "    </tr>\n",
       "    <tr>\n",
       "      <th>1507</th>\n",
       "      <td>1496</td>\n",
       "      <td>0.006917</td>\n",
       "    </tr>\n",
       "    <tr>\n",
       "      <th>1219</th>\n",
       "      <td>1208</td>\n",
       "      <td>0.005678</td>\n",
       "    </tr>\n",
       "    <tr>\n",
       "      <th>5</th>\n",
       "      <td>Число рейсов</td>\n",
       "      <td>0.004495</td>\n",
       "    </tr>\n",
       "    <tr>\n",
       "      <th>761</th>\n",
       "      <td>750</td>\n",
       "      <td>0.004360</td>\n",
       "    </tr>\n",
       "    <tr>\n",
       "      <th>6</th>\n",
       "      <td>Частота рейса</td>\n",
       "      <td>0.004272</td>\n",
       "    </tr>\n",
       "    <tr>\n",
       "      <th>1551</th>\n",
       "      <td>1540</td>\n",
       "      <td>0.003534</td>\n",
       "    </tr>\n",
       "    <tr>\n",
       "      <th>1393</th>\n",
       "      <td>1382</td>\n",
       "      <td>0.003501</td>\n",
       "    </tr>\n",
       "  </tbody>\n",
       "</table>\n",
       "</div>"
      ],
      "text/plain": [
       "                                   feature  importance\n",
       "7                   Средняя задержка рейса    0.383435\n",
       "4                      Число рейсов в день    0.073965\n",
       "0                            Неделя в году    0.053627\n",
       "1178                                  1167    0.052732\n",
       "1                              День недели    0.036301\n",
       "3                    Длительность перелета    0.024365\n",
       "2                                      Час    0.019806\n",
       "10    Средняя задержка воздушного средства    0.014914\n",
       "1552                                  1541    0.010417\n",
       "1536                                  1525    0.008903\n",
       "8            Средняя задержка из аэропорта    0.008231\n",
       "1184                                  1173    0.008209\n",
       "1566                                  1555    0.007559\n",
       "1507                                  1496    0.006917\n",
       "1219                                  1208    0.005678\n",
       "5                             Число рейсов    0.004495\n",
       "761                                    750    0.004360\n",
       "6                            Частота рейса    0.004272\n",
       "1551                                  1540    0.003534\n",
       "1393                                  1382    0.003501"
      ]
     },
     "execution_count": 69,
     "metadata": {},
     "output_type": "execute_result"
    }
   ],
   "source": [
    "feature_importances = pd.DataFrame(\n",
    "    {'feature': X_train.columns, 'importance': rf.feature_importances_}\n",
    " )\n",
    "feature_importances = feature_importances.sort_values('importance', ascending=False)\n",
    "feature_importances.head(20)"
   ]
  },
  {
   "cell_type": "code",
   "execution_count": 70,
   "metadata": {},
   "outputs": [],
   "source": [
    "best_features = feature_importances['feature'].values[:20]"
   ]
  },
  {
   "cell_type": "code",
   "execution_count": 71,
   "metadata": {},
   "outputs": [],
   "source": [
    "# train_model(rf, X_train[best_features], y_train, X_test[best_features], y_test)"
   ]
  },
  {
   "cell_type": "markdown",
   "metadata": {},
   "source": [
    "#### GradientBoostingRegressor"
   ]
  },
  {
   "cell_type": "code",
   "execution_count": 72,
   "metadata": {},
   "outputs": [],
   "source": [
    "# gbr = GradientBoostingRegressor(random_state=5)"
   ]
  },
  {
   "cell_type": "code",
   "execution_count": 73,
   "metadata": {},
   "outputs": [],
   "source": [
    "# train_model(rf, X_train, y_train, X_test, y_test)"
   ]
  },
  {
   "cell_type": "markdown",
   "metadata": {},
   "source": [
    "Градиентный бустинг от sk-learn дает совершенно такой же результат, как и RandomForest."
   ]
  },
  {
   "cell_type": "markdown",
   "metadata": {},
   "source": [
    "#### XGBoost"
   ]
  },
  {
   "cell_type": "code",
   "execution_count": 74,
   "metadata": {},
   "outputs": [],
   "source": [
    "xgbr = xgb.XGBRegressor(random_state=1, objective='reg:squarederror', n_jobs=-1)"
   ]
  },
  {
   "cell_type": "code",
   "execution_count": 75,
   "metadata": {},
   "outputs": [
    {
     "name": "stdout",
     "output_type": "stream",
     "text": [
      "train_RMSE: 33.974832784791005\n",
      "test_RMSE: 45.67546038906074\n",
      "\n",
      "train_R2: 0.5636265587609078\n",
      "test_R2: 0.22743951353691094\n"
     ]
    }
   ],
   "source": [
    "train_model(xgbr, X_train, y_train, X_test, y_test)"
   ]
  },
  {
   "cell_type": "code",
   "execution_count": 76,
   "metadata": {},
   "outputs": [
    {
     "data": {
      "text/plain": [
       "<bound method XGBModel.get_params of XGBRegressor(base_score=0.5, booster='gbtree', colsample_bylevel=1,\n",
       "             colsample_bynode=1, colsample_bytree=1, gamma=0,\n",
       "             importance_type='gain', learning_rate=0.1, max_delta_step=0,\n",
       "             max_depth=3, min_child_weight=1, missing=None, n_estimators=100,\n",
       "             n_jobs=-1, nthread=None, objective='reg:squarederror',\n",
       "             random_state=1, reg_alpha=0, reg_lambda=1, scale_pos_weight=1,\n",
       "             seed=None, silent=None, subsample=1, verbosity=1)>"
      ]
     },
     "execution_count": 76,
     "metadata": {},
     "output_type": "execute_result"
    }
   ],
   "source": [
    "xgbr.get_params"
   ]
  },
  {
   "cell_type": "markdown",
   "metadata": {},
   "source": [
    "#### CatBoostRegressor"
   ]
  },
  {
   "cell_type": "code",
   "execution_count": 77,
   "metadata": {},
   "outputs": [],
   "source": [
    "catb = CatBoostRegressor(silent=True, random_seed=5, cat_features=CAT_FEATURE_NAMES)"
   ]
  },
  {
   "cell_type": "code",
   "execution_count": 78,
   "metadata": {},
   "outputs": [
    {
     "name": "stdout",
     "output_type": "stream",
     "text": [
      "train_RMSE: 33.29534301027751\n",
      "test_RMSE: 46.23021310369781\n",
      "\n",
      "train_R2: 0.580906773805149\n",
      "test_R2: 0.2085592356200241\n"
     ]
    }
   ],
   "source": [
    "train_model(catb, X_train_cat, y_train, X_test_cat, y_test)"
   ]
  },
  {
   "cell_type": "markdown",
   "metadata": {},
   "source": [
    "#### Лучший результат показала модель XGBoostRegressor"
   ]
  },
  {
   "cell_type": "markdown",
   "metadata": {},
   "source": [
    "## Настройка параметров лучшей модели"
   ]
  },
  {
   "cell_type": "code",
   "execution_count": 79,
   "metadata": {},
   "outputs": [],
   "source": [
    "tscv = TimeSeriesSplit(n_splits=5)  # Разбиваем датасет, сохраняя временную структуру\n",
    "cv = tscv.split(X_train)"
   ]
  },
  {
   "cell_type": "code",
   "execution_count": 80,
   "metadata": {},
   "outputs": [],
   "source": [
    "model = xgb.XGBRegressor(random_seed=5, objective='reg:squarederror', n_jobs=-1)\n",
    "\n",
    "grid = {\n",
    "    'learning_rate': [0.05, 0.1, 0.2],\n",
    "    'reg_alpha': [0.0, 0.01, 0.1],\n",
    "    'reg_lambda': [1.0, 5.0, 3.0, 7.0],\n",
    "    'gamma': np.linspace(0.0, 0.5, 5)\n",
    "}\n",
    "\n",
    "gscv = RandomizedSearchCV(model, grid, cv=cv, n_iter=30)"
   ]
  },
  {
   "cell_type": "code",
   "execution_count": 81,
   "metadata": {},
   "outputs": [
    {
     "name": "stdout",
     "output_type": "stream",
     "text": [
      "train_RMSE: 36.3413712952103\n",
      "test_RMSE: 45.20181156432709\n",
      "\n",
      "train_R2: 0.5007175780335635\n",
      "test_R2: 0.24337914846159425\n"
     ]
    }
   ],
   "source": [
    "train_model(gscv, X_train, y_train, X_test, y_test)"
   ]
  },
  {
   "cell_type": "code",
   "execution_count": 100,
   "metadata": {},
   "outputs": [],
   "source": [
    "params = gscv.best_estimator_.get_params()"
   ]
  },
  {
   "cell_type": "markdown",
   "metadata": {},
   "source": [
    "#### Обучим оптимизированную модель на всем трейне"
   ]
  },
  {
   "cell_type": "code",
   "execution_count": 101,
   "metadata": {},
   "outputs": [],
   "source": [
    "xgbr = xgb.XGBRegressor(**params)"
   ]
  },
  {
   "cell_type": "code",
   "execution_count": 102,
   "metadata": {},
   "outputs": [
    {
     "name": "stdout",
     "output_type": "stream",
     "text": [
      "train_RMSE: 36.3413712952103\n",
      "test_RMSE: 45.20181156432709\n",
      "\n",
      "train_R2: 0.5007175780335635\n",
      "test_R2: 0.24337914846159425\n"
     ]
    }
   ],
   "source": [
    "train_model(xgbr, X_train, y_train, X_test, y_test)"
   ]
  },
  {
   "cell_type": "markdown",
   "metadata": {},
   "source": [
    "### Построим интервалы, в которых с вероятностью 95,4% будут лежать предсказания"
   ]
  },
  {
   "cell_type": "markdown",
   "metadata": {},
   "source": [
    "Разобьем X_train на две выборки. На первой обучим модель для предсказания целевой переменной, а на второй - модель для предсказания MSE."
   ]
  },
  {
   "cell_type": "code",
   "execution_count": 103,
   "metadata": {},
   "outputs": [],
   "source": [
    "X1, X2 = split_data(pd.concat([X_train, y_train], axis=1).reset_index(), X_train.shape[0] * 0.50)"
   ]
  },
  {
   "cell_type": "code",
   "execution_count": 104,
   "metadata": {},
   "outputs": [],
   "source": [
    "y1 = X1[TARGET_NAME]\n",
    "X1 = X1.drop([TARGET_NAME, 'index'], axis=1)"
   ]
  },
  {
   "cell_type": "code",
   "execution_count": 105,
   "metadata": {},
   "outputs": [],
   "source": [
    "y2 = X2[TARGET_NAME]\n",
    "X2 = X2.drop([TARGET_NAME, 'index'], axis=1)"
   ]
  },
  {
   "cell_type": "code",
   "execution_count": 106,
   "metadata": {},
   "outputs": [],
   "source": [
    "xgbr_mean = xgb.XGBRegressor(**params)"
   ]
  },
  {
   "cell_type": "code",
   "execution_count": 107,
   "metadata": {},
   "outputs": [
    {
     "data": {
      "text/plain": [
       "XGBRegressor(base_score=0.5, booster='gbtree', colsample_bylevel=1,\n",
       "             colsample_bynode=1, colsample_bytree=1, gamma=0.375,\n",
       "             importance_type='gain', learning_rate=0.05, max_delta_step=0,\n",
       "             max_depth=3, min_child_weight=1, missing=None, n_estimators=100,\n",
       "             n_jobs=-1, nthread=None, objective='reg:squarederror',\n",
       "             random_seed=5, random_state=0, reg_alpha=0.01, reg_lambda=5.0,\n",
       "             scale_pos_weight=1, seed=None, silent=None, subsample=1,\n",
       "             verbosity=1)"
      ]
     },
     "execution_count": 107,
     "metadata": {},
     "output_type": "execute_result"
    }
   ],
   "source": [
    "xgbr_mean.fit(X1, y1)"
   ]
  },
  {
   "cell_type": "code",
   "execution_count": 108,
   "metadata": {},
   "outputs": [],
   "source": [
    "y2_pred = xgbr_mean.predict(X2)"
   ]
  },
  {
   "cell_type": "code",
   "execution_count": 109,
   "metadata": {},
   "outputs": [],
   "source": [
    "y2_pred_error = (y2 - y2_pred) ** 2"
   ]
  },
  {
   "cell_type": "code",
   "execution_count": 110,
   "metadata": {},
   "outputs": [],
   "source": [
    "xgbr_std = xgb.XGBRegressor(**params)"
   ]
  },
  {
   "cell_type": "code",
   "execution_count": 111,
   "metadata": {},
   "outputs": [
    {
     "data": {
      "text/plain": [
       "XGBRegressor(base_score=0.5, booster='gbtree', colsample_bylevel=1,\n",
       "             colsample_bynode=1, colsample_bytree=1, gamma=0.375,\n",
       "             importance_type='gain', learning_rate=0.05, max_delta_step=0,\n",
       "             max_depth=3, min_child_weight=1, missing=None, n_estimators=100,\n",
       "             n_jobs=-1, nthread=None, objective='reg:squarederror',\n",
       "             random_seed=5, random_state=0, reg_alpha=0.01, reg_lambda=5.0,\n",
       "             scale_pos_weight=1, seed=None, silent=None, subsample=1,\n",
       "             verbosity=1)"
      ]
     },
     "execution_count": 111,
     "metadata": {},
     "output_type": "execute_result"
    }
   ],
   "source": [
    "xgbr_std.fit(X2, y2_pred_error)"
   ]
  },
  {
   "cell_type": "code",
   "execution_count": 112,
   "metadata": {},
   "outputs": [],
   "source": [
    "y_test_mean = xgbr_mean.predict(X_test)"
   ]
  },
  {
   "cell_type": "code",
   "execution_count": 113,
   "metadata": {},
   "outputs": [],
   "source": [
    "y_test_std = xgbr_std.predict(X_test)"
   ]
  },
  {
   "cell_type": "markdown",
   "metadata": {},
   "source": [
    "Квадратный среднеквадратичная ошибка - это дисперсия целевой переменной, поэтому можно найти интервал +/- 2$\\sigma$ и построить интервал, который с вероятностью 95,4% покроет целевую переменную."
   ]
  },
  {
   "cell_type": "code",
   "execution_count": 114,
   "metadata": {},
   "outputs": [],
   "source": [
    "results = pd.DataFrame()\n",
    "results['predict_lower'] = y_test_mean - (2*(y_test_std)**0.5)\n",
    "results['predict'] = y_test_mean\n",
    "results['predict_upper'] = y_test_mean + (2*(y_test_std)**0.5)"
   ]
  },
  {
   "cell_type": "code",
   "execution_count": 115,
   "metadata": {},
   "outputs": [
    {
     "data": {
      "text/html": [
       "<div>\n",
       "<style scoped>\n",
       "    .dataframe tbody tr th:only-of-type {\n",
       "        vertical-align: middle;\n",
       "    }\n",
       "\n",
       "    .dataframe tbody tr th {\n",
       "        vertical-align: top;\n",
       "    }\n",
       "\n",
       "    .dataframe thead th {\n",
       "        text-align: right;\n",
       "    }\n",
       "</style>\n",
       "<table border=\"1\" class=\"dataframe\">\n",
       "  <thead>\n",
       "    <tr style=\"text-align: right;\">\n",
       "      <th></th>\n",
       "      <th>predict_lower</th>\n",
       "      <th>predict</th>\n",
       "      <th>predict_upper</th>\n",
       "    </tr>\n",
       "  </thead>\n",
       "  <tbody>\n",
       "    <tr>\n",
       "      <th>0</th>\n",
       "      <td>-51.824802</td>\n",
       "      <td>1.398746</td>\n",
       "      <td>54.622295</td>\n",
       "    </tr>\n",
       "    <tr>\n",
       "      <th>1</th>\n",
       "      <td>-51.103382</td>\n",
       "      <td>2.120167</td>\n",
       "      <td>55.343716</td>\n",
       "    </tr>\n",
       "    <tr>\n",
       "      <th>2</th>\n",
       "      <td>-51.016048</td>\n",
       "      <td>2.207502</td>\n",
       "      <td>55.431049</td>\n",
       "    </tr>\n",
       "    <tr>\n",
       "      <th>3</th>\n",
       "      <td>-54.361526</td>\n",
       "      <td>-1.137977</td>\n",
       "      <td>52.085571</td>\n",
       "    </tr>\n",
       "    <tr>\n",
       "      <th>4</th>\n",
       "      <td>-49.734203</td>\n",
       "      <td>3.489346</td>\n",
       "      <td>56.712894</td>\n",
       "    </tr>\n",
       "  </tbody>\n",
       "</table>\n",
       "</div>"
      ],
      "text/plain": [
       "   predict_lower   predict  predict_upper\n",
       "0     -51.824802  1.398746      54.622295\n",
       "1     -51.103382  2.120167      55.343716\n",
       "2     -51.016048  2.207502      55.431049\n",
       "3     -54.361526 -1.137977      52.085571\n",
       "4     -49.734203  3.489346      56.712894"
      ]
     },
     "execution_count": 115,
     "metadata": {},
     "output_type": "execute_result"
    }
   ],
   "source": [
    "results.head()"
   ]
  },
  {
   "cell_type": "markdown",
   "metadata": {},
   "source": [
    "Мы получили модель, которая предсказывает целевую переменную и строит 95,4% доверительный интервал."
   ]
  },
  {
   "cell_type": "markdown",
   "metadata": {},
   "source": [
    "Далее мы можем сделать сервер с использованием, например, библиотеки Flask, перенести во Flask все функции преобразования данных, загрузить обученные модели, настроить логирование и далее использовать для прогнозирования на новых данных."
   ]
  },
  {
   "cell_type": "code",
   "execution_count": null,
   "metadata": {},
   "outputs": [],
   "source": []
  }
 ],
 "metadata": {
  "kernelspec": {
   "display_name": "Python 3",
   "language": "python",
   "name": "python3"
  },
  "language_info": {
   "codemirror_mode": {
    "name": "ipython",
    "version": 3
   },
   "file_extension": ".py",
   "mimetype": "text/x-python",
   "name": "python",
   "nbconvert_exporter": "python",
   "pygments_lexer": "ipython3",
   "version": "3.7.4"
  }
 },
 "nbformat": 4,
 "nbformat_minor": 2
}
